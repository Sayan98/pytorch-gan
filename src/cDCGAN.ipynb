{
 "cells": [
  {
   "cell_type": "markdown",
   "metadata": {},
   "source": [
    "# Conditional Deep Convolutional Generative Adversarial Networks"
   ]
  },
  {
   "cell_type": "markdown",
   "metadata": {},
   "source": [
    "## Imports"
   ]
  },
  {
   "cell_type": "code",
   "execution_count": null,
   "metadata": {},
   "outputs": [],
   "source": [
    "import matplotlib.pyplot as plt\n",
    "import matplotlib.image as mpimg\n",
    "import numpy as np\n",
    "import os\n",
    "import time\n",
    "import torch\n",
    "import torch.nn as nn\n",
    "from torchvision import datasets, transforms\n",
    "from torchvision.utils import save_image\n",
    "\n",
    "%matplotlib notebook\n",
    "%config InlineBackend.figure_format = 'svg'"
   ]
  },
  {
   "cell_type": "markdown",
   "metadata": {},
   "source": [
    "## Constants"
   ]
  },
  {
   "cell_type": "code",
   "execution_count": null,
   "metadata": {},
   "outputs": [],
   "source": [
    "DATA_DIR = \"/home/SharedData/intern_sayan/GAN/MNIST\"\n",
    "\n",
    "CHECKPOINT_DIR = \"/home/SharedData/intern_sayan/GAN/\"\n",
    "CHECKPOINT_G = \"mnist_cdcgan_gen.pth\"\n",
    "CHECKPOINT_D = \"mnist_cdcgan_dis.pth\"\n",
    "\n",
    "SHOULD_CHECKPOINT = True\n",
    "LOAD_CHECKPOINT = False\n",
    "\n",
    "!mkdir -p cdcgan_images\n",
    "\n",
    "os.environ[\"CUDA_VISIBLE_DEVICES\"] = \"0\"\n",
    "CUDA = 0\n",
    "BATCH_SIZE = 64\n",
    "EPOCHS = 30\n",
    "\n",
    "img_size = 32\n",
    "n_channels = 1\n",
    "img_shape = (n_channels, img_size, img_size)\n",
    "\n",
    "lr_g = 0.002\n",
    "lr_d = 0.002\n",
    "\n",
    "latent_dim = 100\n",
    "n_classes = 10"
   ]
  },
  {
   "cell_type": "markdown",
   "metadata": {},
   "source": [
    "## Data"
   ]
  },
  {
   "cell_type": "code",
   "execution_count": null,
   "metadata": {},
   "outputs": [],
   "source": [
    "dataloader = torch.utils.data.DataLoader(\n",
    "    datasets.MNIST(DATA_DIR, train=True, download=True,\n",
    "                   transform=transforms.Compose([\n",
    "                       transforms.Resize(img_size),\n",
    "                       transforms.ToTensor(),\n",
    "                       transforms.Normalize((0.5, 0.5, 0.5), (0.5, 0.5, 0.5))\n",
    "                   ])),\n",
    "    batch_size=BATCH_SIZE, shuffle=True)\n",
    "\n",
    "\n",
    "print(f\"# train batches: {len(dataloader)}\")\n",
    "\n",
    "print(f\"train image: {dataloader.dataset[0][0].size()}\")"
   ]
  },
  {
   "cell_type": "markdown",
   "metadata": {},
   "source": [
    "## Generator"
   ]
  },
  {
   "cell_type": "code",
   "execution_count": null,
   "metadata": {},
   "outputs": [],
   "source": [
    "class Generator(nn.Module):\n",
    "    def __init__(self, latent_dim, img_size, channels):\n",
    "        super(Generator, self).__init__()\n",
    "        \n",
    "        self.init_size = img_size // 4\n",
    "        \n",
    "        self.label_emb = nn.Embedding(n_classes, n_classes)\n",
    "        \n",
    "        self.linear = nn.Linear(latent_dim + n_classes, 128 * (self.init_size ** 2))\n",
    "    \n",
    "        self.conv_net = nn.Sequential(\n",
    "            nn.BatchNorm2d(128),\n",
    "            nn.Upsample(scale_factor=2),\n",
    "            nn.Conv2d(128, 128, 3, stride=1, padding=1),\n",
    "            nn.BatchNorm2d(128, 0.8),\n",
    "            nn.LeakyReLU(0.2, inplace=True),\n",
    "            nn.Upsample(scale_factor=2),\n",
    "            nn.Conv2d(128, 64, 3, stride=1, padding=1),\n",
    "            nn.BatchNorm2d(64, 0.8),\n",
    "            nn.LeakyReLU(0.2, inplace=True),\n",
    "            nn.Conv2d(64, channels, 3, stride=1, padding=1),\n",
    "            nn.Tanh()\n",
    "        )\n",
    "        \n",
    "\n",
    "    def forward(self, z, labels):\n",
    "        y = self.label_emb(labels)\n",
    "        x = torch.cat([y, z], dim=1)\n",
    "        \n",
    "        x = self.linear(x)\n",
    "        x = x.view(x.size(0), 128, self.init_size, self.init_size)\n",
    "        img = self.conv_net(x)\n",
    "        \n",
    "        img = img.view(img.size(0), *img_shape)\n",
    "        \n",
    "        return img"
   ]
  },
  {
   "cell_type": "markdown",
   "metadata": {},
   "source": [
    "## Discriminator"
   ]
  },
  {
   "cell_type": "code",
   "execution_count": null,
   "metadata": {},
   "outputs": [],
   "source": [
    "class Discriminator(nn.Module):\n",
    "    def __init__(self, channels, img_size):\n",
    "        super(Discriminator, self).__init__()\n",
    "        \n",
    "        self.label_emb = nn.Embedding(n_classes, n_classes)\n",
    "\n",
    "        pass\n",
    "\n",
    "    def forward(self, img, labels):\n",
    "        pass"
   ]
  },
  {
   "cell_type": "markdown",
   "metadata": {},
   "source": [
    "## Training"
   ]
  },
  {
   "cell_type": "code",
   "execution_count": null,
   "metadata": {},
   "outputs": [],
   "source": [
    "# Loss functions\n",
    "adversarial_loss = torch.nn.BCELoss()\n",
    "\n",
    "# Generator & Discriminator\n",
    "generator = Generator(img_size=img_size,\n",
    "                      latent_dim=latent_dim,\n",
    "                      channels=n_channels)\n",
    "discriminator = Discriminator(img_size=img_size,\n",
    "                              channels=n_channels)\n",
    "\n",
    "def weights_init_normal(m):\n",
    "    classname = m.__class__.__name__\n",
    "    if classname.find('Conv') != -1:\n",
    "        torch.nn.init.normal_(m.weight.data, 0.0, 0.02)\n",
    "    elif classname.find('BatchNorm2d') != -1:\n",
    "        torch.nn.init.normal_(m.weight.data, 1.0, 0.02)\n",
    "        torch.nn.init.constant_(m.bias.data, 0.0)\n",
    "\n",
    "if CUDA is not None:\n",
    "    adversarial_loss.cuda()\n",
    "    generator.cuda()\n",
    "    discriminator.cuda()\n",
    "    \n",
    "if not LOAD_CHECKPOINT:\n",
    "    # Init weights\n",
    "    generator.apply(weights_init_normal)\n",
    "    discriminator.apply(weights_init_normal)\n",
    "    \n",
    "    \n",
    "if LOAD_CHECKPOINT:\n",
    "    generator.load_state_dict(torch.load(os.path.join(CHECKPOINT_DIR,\n",
    "                                                      CHECKPOINT_G)))\n",
    "    discriminator.load_state_dict(torch.load(os.path.join(CHECKPOINT_DIR,\n",
    "                                                          CHECKPOINT_D)))\n",
    "    \n",
    "# Optimizers\n",
    "optimizer_G = torch.optim.Adam(generator.parameters(), lr=lr_g, betas=(0.5, 0.999))\n",
    "optimizer_D = torch.optim.Adam(discriminator.parameters(), lr=lr_d, betas=(0.5, 0.999))\n",
    "\n",
    "\n",
    "# Utils\n",
    "FloatTensor = torch.cuda.FloatTensor if CUDA is not None else torch.FloatTensor\n",
    "LongTensor = torch.cuda.LongTensor if CUDA is not None else torch.LongTensor   "
   ]
  },
  {
   "cell_type": "code",
   "execution_count": null,
   "metadata": {},
   "outputs": [],
   "source": [
    "from IPython.display import clear_output\n",
    "from tqdm import tqdm_notebook\n",
    "\n",
    "losses = {\"generator\" : list(), \"discriminator\": list()}\n",
    "\n",
    "def display_progress(delta, epoch, epoch_d_loss, epoch_g_loss):\n",
    "    clear_output(True)\n",
    "    \n",
    "    print(f\"[Epoch {(epoch+1):3}/{EPOCHS}] [D loss: {epoch_d_loss:.8f}] [G loss: {epoch_g_loss:.8f}] in {delta:.2f} secs \")\n",
    "    \n",
    "    plt.plot(range(len(losses[\"generator\"])), losses[\"generator\"], \"tab:blue\")\n",
    "    plt.plot(range(len(losses[\"discriminator\"])), losses[\"discriminator\"], \"tab:orange\")\n",
    "\n",
    "    plt.legend([\"generator\", \"discriminator\"])\n",
    "    \n",
    "    plt.show()\n",
    "\n",
    "    \n",
    "def sample_image(epoch):\n",
    "    \"\"\"Saves a grid of generated digits ranging from 0 to n_classes\"\"\"\n",
    "    n_row = n_classes\n",
    "    # Sample noise\n",
    "    z = torch.autograd.Variable(FloatTensor(np.random.normal(0, 1, (n_row**2, latent_dim))), requires_grad=False)\n",
    "    \n",
    "    labels = np.array([np.random.randn(latent_dim) for _ in range(n_row)])\n",
    "    labels = torch.autograd.Variable(FloatTensor(labels), requires_grad=False)\n",
    "\n",
    "    gen_imgs = generator(z, labels)\n",
    "\n",
    "    save_image(gen_imgs.data, \"dcgan_images/epoch_{}.png\".format(epoch), nrow=n_row, normalize=True)\n",
    "\n",
    "\n",
    "for epoch in range(EPOCHS):\n",
    "    epoch_g_loss, epoch_d_loss = 0,0\n",
    "    delta = time.time()\n",
    "    \n",
    "    for batch_idx, (imgs, labels) in tqdm_notebook(enumerate(dataloader)):\n",
    "        batch_size = imgs.shape[0]\n",
    "\n",
    "        # Adversarial ground truths\n",
    "        valid = torch.autograd.Variable(FloatTensor(batch_size, 1).fill_(1.0), requires_grad=False)\n",
    "        fake = torch.autograd.Variable(FloatTensor(batch_size, 1).fill_(0.0), requires_grad=False)\n",
    "\n",
    "        # Configure input\n",
    "        real_imgs = torch.autograd.Variable(imgs.type(FloatTensor))        \n",
    "        \n",
    "        # -----------------\n",
    "        #  Train Generator\n",
    "        # -----------------\n",
    "\n",
    "        optimizer_G.zero_grad()\n",
    "\n",
    "        # Sample noise and labels as generator input\n",
    "        z = torch.autograd.Variable(FloatTensor(np.random.normal(0, 1, (batch_size, latent_dim))))\n",
    "        gen_labels = torch.autograd.Variable(LongTensor(np.random.randint(0, n_classes, batch_size)))\n",
    "\n",
    "        # Generate a batch of images\n",
    "        gen_imgs = generator(z, gen_labels)\n",
    "\n",
    "        # Loss measures generator's ability to fool the discriminator\n",
    "        validity = discriminator(gen_imgs, gen_labels)\n",
    "        g_loss = adversarial_loss(validity, valid)\n",
    "\n",
    "        g_loss.backward()\n",
    "        optimizer_G.step()\n",
    "\n",
    "        \n",
    "        # ---------------------\n",
    "        #  Train Discriminator\n",
    "        # ---------------------\n",
    "\n",
    "        optimizer_D.zero_grad()\n",
    "\n",
    "        # Loss for real images\n",
    "        validity_real = discriminator(real_imgs, labels)\n",
    "        d_real_loss = adversarial_loss(validity_real, valid)\n",
    "\n",
    "        # Loss for fake images\n",
    "        validity_fake = discriminator(gen_imgs.detach(), gen_labels)\n",
    "        d_fake_loss = adversarial_loss(validity_fake, fake)\n",
    "\n",
    "        # Total discriminator loss\n",
    "        d_loss = (d_real_loss + d_fake_loss) / 2\n",
    "\n",
    "        d_loss.backward()\n",
    "        optimizer_D.step()\n",
    "        \n",
    "        \n",
    "        epoch_g_loss += g_loss.detach().cpu().float()\n",
    "        epoch_d_loss += d_loss.detach().cpu().float()        \n",
    "        \n",
    "    delta = time.time() - delta\n",
    "    \n",
    "    sample_image(epoch)\n",
    "    \n",
    "    losses[\"generator\"].append(epoch_g_loss)\n",
    "    losses[\"discriminator\"].append(epoch_d_loss)\n",
    "    \n",
    "    if SHOULD_CHECKPOINT:\n",
    "        torch.save(generator.state_dict(), os.path.join(CHECKPOINT_DIR,\n",
    "                                                        CHECKPOINT_G))\n",
    "        torch.save(discriminator.state_dict(), os.path.join(CHECKPOINT_DIR,\n",
    "                                                            CHECKPOINT_D))\n",
    "    \n",
    "    display_progress(delta, epoch, epoch_d_loss, epoch_g_loss)\n",
    "        "
   ]
  },
  {
   "cell_type": "markdown",
   "metadata": {},
   "source": [
    "## Visualisation"
   ]
  },
  {
   "cell_type": "code",
   "execution_count": null,
   "metadata": {},
   "outputs": [],
   "source": [
    "plt.plot(range(len(losses[\"discriminator\"])), losses[\"discriminator\"])"
   ]
  },
  {
   "cell_type": "code",
   "execution_count": null,
   "metadata": {},
   "outputs": [],
   "source": [
    "plt.plot(range(len(losses[\"generator\"])), losses[\"generator\"])"
   ]
  },
  {
   "cell_type": "code",
   "execution_count": null,
   "metadata": {},
   "outputs": [],
   "source": [
    "# Random sampling for inference\n",
    "\n",
    "n_row = n_classes\n",
    "n_col = 5\n",
    "\n",
    "\n",
    "fig = plt.figure()\n",
    "fig.set_figheight(24)\n",
    "fig.set_figwidth(10)\n",
    "\n",
    "for row in range(n_row):\n",
    "    z = torch.autograd.Variable(FloatTensor(np.random.normal(0, 1, (n_col, latent_dim))))\n",
    "    \n",
    "    image = generator(z).detach().cpu().numpy()\n",
    "        \n",
    "    for col in range(n_col):\n",
    "        index = row * n_col + col\n",
    "        a = fig.add_subplot(n_row, n_col, index + 1)\n",
    "        \n",
    "        plt.imshow(image[col].reshape(img_size, img_size))"
   ]
  },
  {
   "cell_type": "code",
   "execution_count": null,
   "metadata": {},
   "outputs": [],
   "source": []
  }
 ],
 "metadata": {
  "kernelspec": {
   "display_name": "Python 3",
   "language": "python",
   "name": "python3"
  },
  "language_info": {
   "codemirror_mode": {
    "name": "ipython",
    "version": 3
   },
   "file_extension": ".py",
   "mimetype": "text/x-python",
   "name": "python",
   "nbconvert_exporter": "python",
   "pygments_lexer": "ipython3",
   "version": "3.6.4"
  }
 },
 "nbformat": 4,
 "nbformat_minor": 2
}
