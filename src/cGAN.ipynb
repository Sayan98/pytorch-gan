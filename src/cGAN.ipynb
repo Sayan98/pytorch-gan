{
 "cells": [
  {
   "cell_type": "markdown",
   "metadata": {},
   "source": [
    "# Generative Adversarial Networks"
   ]
  },
  {
   "cell_type": "markdown",
   "metadata": {},
   "source": [
    "## Imports"
   ]
  },
  {
   "cell_type": "code",
   "execution_count": 1,
   "metadata": {},
   "outputs": [],
   "source": [
    "import matplotlib.pyplot as plt\n",
    "import matplotlib.image as mpimg\n",
    "import numpy as np\n",
    "import os\n",
    "import time\n",
    "import torch\n",
    "import torch.nn as nn\n",
    "from torchvision import datasets, transforms\n",
    "from torchvision.utils import save_image\n",
    "\n",
    "%matplotlib notebook\n",
    "%config InlineBackend.figure_format = 'svg'"
   ]
  },
  {
   "cell_type": "markdown",
   "metadata": {},
   "source": [
    "## Constants"
   ]
  },
  {
   "cell_type": "code",
   "execution_count": 2,
   "metadata": {},
   "outputs": [],
   "source": [
    "DATA_DIR = \"/home/SharedData/intern_sayan/GAN/MNIST\"\n",
    "\n",
    "CHECKPOINT_DIR = \"/home/SharedData/intern_sayan/GAN/\"\n",
    "CHECKPOINT_G = \"mnist_cgan_gen.pth\"\n",
    "CHECKPOINT_D = \"mnist_cgan_dis.pth\"\n",
    "\n",
    "SHOULD_CHECKPOINT = True\n",
    "LOAD_CHECKPOINT = False\n",
    "\n",
    "!mkdir -p cgan_images\n",
    "\n",
    "os.environ[\"CUDA_VISIBLE_DEVICES\"] = \"0\"\n",
    "CUDA = 0\n",
    "BATCH_SIZE = 64\n",
    "EPOCHS = 120\n",
    "\n",
    "img_size = 28\n",
    "img_shape = (1, img_size, img_size)\n",
    "\n",
    "lr_g = 0.0002\n",
    "lr_d = 0.00002\n",
    "\n",
    "latent_dim = 100\n",
    "n_classes = 10"
   ]
  },
  {
   "cell_type": "markdown",
   "metadata": {},
   "source": [
    "## Data"
   ]
  },
  {
   "cell_type": "code",
   "execution_count": 3,
   "metadata": {},
   "outputs": [
    {
     "name": "stdout",
     "output_type": "stream",
     "text": [
      "# train batches: 938\n",
      "train image: torch.Size([1, 28, 28])\n"
     ]
    }
   ],
   "source": [
    "dataloader = torch.utils.data.DataLoader(\n",
    "    datasets.MNIST(DATA_DIR, train=True, download=True,\n",
    "                   transform=transforms.Compose([\n",
    "                       transforms.ToTensor(),\n",
    "                       transforms.Normalize((0.5, 0.5, 0.5), (0.5, 0.5, 0.5))\n",
    "                   ])),\n",
    "    batch_size=BATCH_SIZE, shuffle=True)\n",
    "\n",
    "\n",
    "print(f\"# train batches: {len(dataloader)}\")\n",
    "\n",
    "print(f\"train image: {dataloader.dataset[0][0].size()}\")"
   ]
  },
  {
   "cell_type": "markdown",
   "metadata": {},
   "source": [
    "## Generator"
   ]
  },
  {
   "cell_type": "code",
   "execution_count": 4,
   "metadata": {},
   "outputs": [],
   "source": [
    "class Generator(nn.Module):\n",
    "    def __init__(self, n_classes, latent_dim):\n",
    "        super(Generator, self).__init__()\n",
    "\n",
    "        self.label_emb = nn.Embedding(n_classes, n_classes)\n",
    "\n",
    "        def block(in_feat, out_feat, normalize=True):\n",
    "            layers = [  nn.Linear(in_feat, out_feat)]\n",
    "            if normalize:\n",
    "                layers.append(nn.BatchNorm1d(out_feat, 0.8))\n",
    "            layers.append(nn.LeakyReLU(0.2, inplace=True))\n",
    "            return layers\n",
    "\n",
    "        self.model = nn.Sequential(\n",
    "            *block(latent_dim + n_classes, 128, normalize=False),\n",
    "            *block(128, 256),\n",
    "            *block(256, 512),\n",
    "            *block(512, 1024),\n",
    "            nn.Linear(1024, int(np.prod(img_shape))),\n",
    "            nn.Tanh()\n",
    "        )\n",
    "\n",
    "    def forward(self, noise, labels):\n",
    "        # Concatenate label embedding and image to produce input\n",
    "        gen_input = torch.cat((self.label_emb(labels), noise), -1)\n",
    "        img = self.model(gen_input)\n",
    "        img = img.view(img.size(0), *img_shape)\n",
    "        return img"
   ]
  },
  {
   "cell_type": "markdown",
   "metadata": {},
   "source": [
    "## Discriminator"
   ]
  },
  {
   "cell_type": "code",
   "execution_count": 5,
   "metadata": {},
   "outputs": [],
   "source": [
    "class Discriminator(nn.Module):\n",
    "    def __init__(self, n_classes):\n",
    "        super(Discriminator, self).__init__()\n",
    "\n",
    "        self.label_embedding = nn.Embedding(n_classes, n_classes)\n",
    "\n",
    "        self.model = nn.Sequential(\n",
    "            nn.Linear(n_classes + int(np.prod(img_shape)), 512),\n",
    "            nn.LeakyReLU(0.2, inplace=True),\n",
    "            nn.Linear(512, 512),\n",
    "            nn.Dropout(0.4),\n",
    "            nn.LeakyReLU(0.2, inplace=True),\n",
    "            nn.Linear(512, 512),\n",
    "            nn.Dropout(0.4),\n",
    "            nn.LeakyReLU(0.2, inplace=True),\n",
    "            nn.Linear(512, 1)\n",
    "        )\n",
    "\n",
    "    def forward(self, img, labels):\n",
    "        # Concatenate label embedding and image to produce input\n",
    "        d_in = torch.cat((img.view(img.size(0), -1), self.label_embedding(labels)), -1)\n",
    "        validity = self.model(d_in)\n",
    "        return validity\n"
   ]
  },
  {
   "cell_type": "markdown",
   "metadata": {},
   "source": [
    "## Training"
   ]
  },
  {
   "cell_type": "code",
   "execution_count": null,
   "metadata": {},
   "outputs": [],
   "source": [
    "# Loss functions\n",
    "adversarial_loss = torch.nn.MSELoss()\n",
    "\n",
    "# Generator & Discriminator\n",
    "generator = Generator(n_classes=n_classes,\n",
    "                      latent_dim=latent_dim)\n",
    "discriminator = Discriminator(n_classes=n_classes)\n",
    "\n",
    "if CUDA is not None:\n",
    "    adversarial_loss.cuda()\n",
    "    generator.cuda()\n",
    "    discriminator.cuda()\n",
    "    \n",
    "if LOAD_CHECKPOINT:\n",
    "    generator.load_state_dict(torch.load(os.path.join(CHECKPOINT_DIR,\n",
    "                                                      CHECKPOINT_G)))\n",
    "    discriminator.load_state_dict(torch.load(os.path.join(CHECKPOINT_DIR,\n",
    "                                                          CHECKPOINT_D)))\n",
    "    \n",
    "# Optimizers\n",
    "optimizer_G = torch.optim.Adam(generator.parameters(), lr=lr_g, betas=(0.5, 0.999))\n",
    "optimizer_D = torch.optim.Adam(discriminator.parameters(), lr=lr_d, betas=(0.5, 0.999))"
   ]
  },
  {
   "cell_type": "code",
   "execution_count": null,
   "metadata": {},
   "outputs": [],
   "source": [
    "from IPython.display import clear_output\n",
    "from tqdm import tqdm_notebook\n",
    "\n",
    "losses = {\"generator\" : list(), \"discriminator\": list()}\n",
    "\n",
    "def display_progress(delta, epoch, epoch_d_loss, epoch_g_loss):\n",
    "    clear_output(True)\n",
    "    \n",
    "    print(f\"[Epoch {(epoch+1):3}/{EPOCHS}] [D loss: {epoch_d_loss:.8f}] [G loss: {epoch_g_loss:.8f}] in {delta:.2f} secs \")\n",
    "    \n",
    "    fig, ax1 = plt.subplots()\n",
    "    ax1.plot(range(len(losses[\"generator\"])), losses[\"generator\"], \"tab:blue\")\n",
    "    ax1.set_ylabel(\"g_loss\", color=\"tab:blue\")\n",
    "    \n",
    "    ax2 = ax1.twinx()\n",
    "    ax2.plot(range(len(losses[\"discriminator\"])), losses[\"discriminator\"], \"tab:orange\")\n",
    "    ax2.set_ylabel(\"d_loss\", color=\"tab:orange\")\n",
    "\n",
    "    fig.tight_layout()\n",
    "    \n",
    "    plt.show()\n",
    "\n",
    "\n",
    "FloatTensor = torch.cuda.FloatTensor if CUDA is not None else torch.FloatTensor\n",
    "LongTensor = torch.cuda.LongTensor if CUDA is not None else torch.LongTensor   \n",
    "\n",
    "\n",
    "for epoch in range(EPOCHS):\n",
    "    epoch_g_loss, epoch_d_loss = 0,0\n",
    "    delta = time.time()\n",
    "    \n",
    "    for batch_idx, (imgs, labels) in tqdm_notebook(enumerate(dataloader)):\n",
    "        batch_size = imgs.shape[0]\n",
    "\n",
    "        # Adversarial ground truths\n",
    "        valid = torch.autograd.Variable(FloatTensor(batch_size, 1).fill_(1.0), requires_grad=False)\n",
    "        fake = torch.autograd.Variable(FloatTensor(batch_size, 1).fill_(0.0), requires_grad=False)\n",
    "\n",
    "        # Configure input\n",
    "        real_imgs = torch.autograd.Variable(imgs.type(FloatTensor))\n",
    "        labels = torch.autograd.Variable(labels.type(LongTensor))\n",
    "        \n",
    "        \n",
    "        # -----------------\n",
    "        #  Train Generator\n",
    "        # -----------------\n",
    "\n",
    "        optimizer_G.zero_grad()\n",
    "\n",
    "        # Sample noise and labels as generator input\n",
    "        z = torch.autograd.Variable(FloatTensor(np.random.normal(0, 1, (batch_size, latent_dim))))\n",
    "        gen_labels = torch.autograd.Variable(LongTensor(np.random.randint(0, n_classes, batch_size)))\n",
    "\n",
    "        # Generate a batch of images\n",
    "        gen_imgs = generator(z, gen_labels)\n",
    "\n",
    "        # Loss measures generator's ability to fool the discriminator\n",
    "        validity = discriminator(gen_imgs, gen_labels)\n",
    "        g_loss = adversarial_loss(validity, valid)\n",
    "\n",
    "        g_loss.backward()\n",
    "        optimizer_G.step()\n",
    "\n",
    "        \n",
    "        # ---------------------\n",
    "        #  Train Discriminator\n",
    "        # ---------------------\n",
    "\n",
    "        optimizer_D.zero_grad()\n",
    "\n",
    "        # Loss for real images\n",
    "        validity_real = discriminator(real_imgs, labels)\n",
    "        d_real_loss = adversarial_loss(validity_real, valid)\n",
    "\n",
    "        # Loss for fake images\n",
    "        validity_fake = discriminator(gen_imgs.detach(), gen_labels)\n",
    "        d_fake_loss = adversarial_loss(validity_fake, fake)\n",
    "\n",
    "        # Total discriminator loss\n",
    "        d_loss = (d_real_loss + d_fake_loss) / 2\n",
    "\n",
    "        d_loss.backward()\n",
    "        optimizer_D.step()\n",
    "        \n",
    "        \n",
    "        epoch_g_loss += g_loss.detach().cpu().float()\n",
    "        epoch_d_loss += d_loss.detach().cpu().float()\n",
    "        \n",
    "        batches_done = epoch * len(dataloader) + batch_idx\n",
    "        \n",
    "        if batches_done % 1000 == 0:\n",
    "            n_row = 8\n",
    "            # Sample noise\n",
    "            z = torch.autograd.Variable(FloatTensor(np.random.normal(0, 1, (n_row**2, latent_dim))))\n",
    "\n",
    "            # Get labels ranging from 0 to n_classes for n rows\n",
    "            labels = np.array([num for _ in range(n_row) for num in range(n_row)])\n",
    "            labels = torch.autograd.Variable(LongTensor(labels))\n",
    "\n",
    "            gen_imgs = generator(z, labels)\n",
    "\n",
    "            save_image(gen_imgs.data,\n",
    "                       \"cgan_images/epoch_{}_bd_{}.png\".format(epoch, batches_done),\n",
    "                       nrow=n_row,\n",
    "                       normalize=True)\n",
    "            \n",
    "        \n",
    "    delta = time.time() - delta\n",
    "    \n",
    "    losses[\"generator\"].append(epoch_g_loss)\n",
    "    losses[\"discriminator\"].append(epoch_d_loss)\n",
    "    \n",
    "    if SHOULD_CHECKPOINT:\n",
    "        torch.save(generator.state_dict(), os.path.join(CHECKPOINT_DIR,\n",
    "                                                        CHECKPOINT_G))\n",
    "        torch.save(discriminator.state_dict(), os.path.join(CHECKPOINT_DIR,\n",
    "                                                            CHECKPOINT_D))\n",
    "    \n",
    "    display_progress(delta, epoch, epoch_d_loss, epoch_g_loss)\n",
    "        "
   ]
  },
  {
   "cell_type": "markdown",
   "metadata": {},
   "source": [
    "## Visualisation"
   ]
  },
  {
   "cell_type": "code",
   "execution_count": null,
   "metadata": {},
   "outputs": [],
   "source": [
    "plt.plot(range(len(losses[\"discriminator\"])), losses[\"discriminator\"])"
   ]
  },
  {
   "cell_type": "code",
   "execution_count": null,
   "metadata": {},
   "outputs": [],
   "source": [
    "plt.plot(range(len(losses[\"generator\"])), losses[\"generator\"])"
   ]
  },
  {
   "cell_type": "code",
   "execution_count": null,
   "metadata": {},
   "outputs": [],
   "source": [
    "# Random sampling for inference\n",
    "rows, cols = 4, 5\n",
    "num_samples = rows * cols\n",
    "\n",
    "if CUDA is not None:\n",
    "    z = torch.autograd.Variable(torch.FloatTensor(np.random.normal(0,1, (num_samples, latent_dim))).cuda(CUDA))\n",
    "else:\n",
    "    z = torch.autograd.Variable(torch.FloatTensor(np.random.normal(0,1, (num_samples, latent_dim))))\n",
    "\n",
    "image = generator(z).detach().cpu().numpy()\n",
    "\n",
    "fig = plt.figure()\n",
    "\n",
    "for row in range(rows):\n",
    "    for col in range(cols):\n",
    "        a = fig.add_subplot(rows, cols, row*cols + col + 1)\n",
    "        plt.imshow(image[1].reshape(img_size, img_size))"
   ]
  },
  {
   "cell_type": "code",
   "execution_count": null,
   "metadata": {},
   "outputs": [],
   "source": []
  }
 ],
 "metadata": {
  "kernelspec": {
   "display_name": "Python 3",
   "language": "python",
   "name": "python3"
  },
  "language_info": {
   "codemirror_mode": {
    "name": "ipython",
    "version": 3
   },
   "file_extension": ".py",
   "mimetype": "text/x-python",
   "name": "python",
   "nbconvert_exporter": "python",
   "pygments_lexer": "ipython3",
   "version": "3.6.4"
  }
 },
 "nbformat": 4,
 "nbformat_minor": 2
}
