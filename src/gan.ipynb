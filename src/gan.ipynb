{
 "cells": [
  {
   "cell_type": "markdown",
   "metadata": {},
   "source": [
    "# Generative Adversarial Networks"
   ]
  },
  {
   "cell_type": "markdown",
   "metadata": {},
   "source": [
    "## Imports"
   ]
  },
  {
   "cell_type": "code",
   "execution_count": 1,
   "metadata": {},
   "outputs": [],
   "source": [
    "import matplotlib.pyplot as plt\n",
    "import matplotlib.image as mpimg\n",
    "import numpy as np\n",
    "import time\n",
    "import torch\n",
    "import torch.nn as nn\n",
    "from torchvision import datasets, transforms\n",
    "from torchvision.utils import save_image\n",
    "\n",
    "%matplotlib inline"
   ]
  },
  {
   "cell_type": "markdown",
   "metadata": {},
   "source": [
    "## Constants"
   ]
  },
  {
   "cell_type": "code",
   "execution_count": 2,
   "metadata": {},
   "outputs": [],
   "source": [
    "DATA_DIR = \"/home/SharedData/intern_sayan/GAN/MNIST\"\n",
    "!mkdir -p images\n",
    "\n",
    "CUDA = 1\n",
    "BATCH_SIZE = 512\n",
    "EPOCHS = 200\n",
    "\n",
    "img_shape = (1, 28, 28)\n",
    "lr = 1e-4\n",
    "latent_dim = 100"
   ]
  },
  {
   "cell_type": "markdown",
   "metadata": {},
   "source": [
    "## Data"
   ]
  },
  {
   "cell_type": "code",
   "execution_count": 3,
   "metadata": {},
   "outputs": [
    {
     "name": "stdout",
     "output_type": "stream",
     "text": [
      "# train batches: 118, # test batches: 20\n",
      "train image: torch.Size([1, 28, 28])\n",
      "test image: torch.Size([1, 28, 28])\n"
     ]
    },
    {
     "data": {
      "text/plain": [
       "Text(0.5,1,'Test')"
      ]
     },
     "execution_count": 3,
     "metadata": {},
     "output_type": "execute_result"
    },
    {
     "data": {
      "image/png": "[encoded data removed]",
      "text/plain": [
       "<matplotlib.figure.Figure at 0x7f6403576c18>"
      ]
     },
     "metadata": {},
     "output_type": "display_data"
    }
   ],
   "source": [
    "# Train Dataloader\n",
    "train_loader = torch.utils.data.DataLoader(\n",
    "    datasets.MNIST(DATA_DIR, train=True, download=True,\n",
    "                   transform=transforms.Compose([\n",
    "                       transforms.ToTensor(),\n",
    "                       transforms.Normalize((0.1307,), (0.3081,))\n",
    "                   ])),\n",
    "    batch_size=BATCH_SIZE, shuffle=True)\n",
    "\n",
    "# Test Dataloader\n",
    "test_loader = torch.utils.data.DataLoader(\n",
    "    datasets.MNIST(DATA_DIR, train=False,\n",
    "                   transform=transforms.Compose([\n",
    "                       transforms.ToTensor(),\n",
    "                       transforms.Normalize((0.1307,), (0.3081,))\n",
    "                   ])),\n",
    "    batch_size=BATCH_SIZE, shuffle=True)\n",
    "\n",
    "print(f\"# train batches: {len(train_loader)}, # test batches: {len(test_loader)}\")\n",
    "\n",
    "print(f\"train image: {train_loader.dataset[0][0].size()}\")\n",
    "print(f\"test image: {test_loader.dataset[0][0].size()}\")\n",
    "\n",
    "fig = plt.figure()\n",
    "\n",
    "a = fig.add_subplot(1,2,1)\n",
    "plt.imshow(train_loader.dataset[1][0].reshape(28,28))\n",
    "a.set_title(\"Train\")\n",
    "\n",
    "a = fig.add_subplot(1,2,2)\n",
    "plt.imshow(test_loader.dataset[1][0].reshape(28,28))\n",
    "a.set_title(\"Test\")"
   ]
  },
  {
   "cell_type": "markdown",
   "metadata": {},
   "source": [
    "## Generator"
   ]
  },
  {
   "cell_type": "code",
   "execution_count": 4,
   "metadata": {},
   "outputs": [],
   "source": [
    "class Generator(nn.Module):\n",
    "    def __init__(self, latent_dim):\n",
    "        super(Generator, self).__init__()\n",
    "\n",
    "        def block(in_feat, out_feat, normalize=True):\n",
    "            layers = [nn.Linear(in_feat, out_feat)]\n",
    "            if normalize:\n",
    "                layers.append(nn.BatchNorm1d(out_feat, 0.8))\n",
    "            layers.append(nn.LeakyReLU(0.2, inplace=True))\n",
    "            return layers\n",
    "\n",
    "        self.model = nn.Sequential(\n",
    "            *block(latent_dim, 128, normalize=False),\n",
    "            *block(128, 256),\n",
    "            *block(256, 512),\n",
    "            *block(512, 1024),\n",
    "            nn.Linear(1024, int(np.prod(img_shape))),\n",
    "            nn.Tanh()\n",
    "        )\n",
    "\n",
    "    def forward(self, z):\n",
    "        img = self.model(z)\n",
    "        img = img.view(img.size(0), *img_shape)\n",
    "        \n",
    "        return img"
   ]
  },
  {
   "cell_type": "markdown",
   "metadata": {},
   "source": [
    "## Discriminator"
   ]
  },
  {
   "cell_type": "code",
   "execution_count": 5,
   "metadata": {},
   "outputs": [],
   "source": [
    "class Discriminator(nn.Module):\n",
    "    def __init__(self):\n",
    "        super(Discriminator, self).__init__()\n",
    "\n",
    "        self.model = nn.Sequential(\n",
    "            nn.Linear(int(np.prod(img_shape)), 512),\n",
    "            nn.LeakyReLU(0.2, inplace=True),\n",
    "            nn.Linear(512, 256),\n",
    "            nn.LeakyReLU(0.2, inplace=True),\n",
    "            nn.Linear(256, 1),\n",
    "            nn.Sigmoid()\n",
    "        )\n",
    "\n",
    "    def forward(self, img):\n",
    "        img_flat = img.view(img.size(0), -1)\n",
    "        p_value = self.model(img_flat)\n",
    "\n",
    "        return p_value"
   ]
  },
  {
   "cell_type": "markdown",
   "metadata": {},
   "source": [
    "# Training"
   ]
  },
  {
   "cell_type": "code",
   "execution_count": null,
   "metadata": {},
   "outputs": [],
   "source": [
    "# Loss function\n",
    "adversarial_loss = torch.nn.BCELoss()\n",
    "\n",
    "# Generator & Discriminator\n",
    "generator = Generator(latent_dim=latent_dim)\n",
    "discriminator = Discriminator()\n",
    "\n",
    "if CUDA:\n",
    "    adversarial_loss.cuda(CUDA)\n",
    "    generator.cuda(CUDA)\n",
    "    discriminator.cuda(CUDA)\n",
    "    \n",
    "# Optimizers\n",
    "optimizer_G = torch.optim.Adam(generator.parameters(), lr=lr)\n",
    "optimizer_D = torch.optim.Adam(discriminator.parameters(), lr=lr)"
   ]
  },
  {
   "cell_type": "code",
   "execution_count": null,
   "metadata": {},
   "outputs": [],
   "source": [
    "for epoch in range(EPOCHS):\n",
    "    epoch_g_loss, epoch_d_loss = 0,0\n",
    "    delta = time.time()\n",
    "    \n",
    "    for batch_idx, (imgs, _label) in enumerate(train_loader):\n",
    "        if CUDA:\n",
    "            # Adversarial ground truths\n",
    "            valid = torch.autograd.Variable(torch.FloatTensor(imgs.size(0),\n",
    "                                                              1).fill_(1.0).cuda(CUDA),\n",
    "                                            requires_grad=False)\n",
    "            fake = torch.autograd.Variable(torch.FloatTensor(imgs.size(0),\n",
    "                                                             1).fill_(0.0).cuda(CUDA),\n",
    "                                           requires_grad=False)\n",
    "\n",
    "            # Real data\n",
    "            real_imgs = torch.autograd.Variable(imgs.type(torch.Tensor)).cuda(CUDA)\n",
    "            \n",
    "            # Sampled noise\n",
    "            z = torch.autograd.Variable(torch.FloatTensor(np.random.normal(0,\n",
    "                                                                           1,\n",
    "                                                                           (imgs.shape[0],\n",
    "                                                                            latent_dim))).cuda(CUDA))\n",
    "        else:\n",
    "            # Adversarial ground truths\n",
    "            valid = torch.autograd.Variable(torch.FloatTensor(imgs.size(0),\n",
    "                                                              1).fill_(1.0),\n",
    "                                            requires_grad=False)\n",
    "            fake = torch.autograd.Variable(torch.FloatTensor(imgs.size(0),\n",
    "                                                             1).fill_(0.0),\n",
    "                                           requires_grad=False)\n",
    "\n",
    "            # Real data\n",
    "            real_imgs = torch.autograd.Variable(imgs.type(torch.Tensor))\n",
    "            \n",
    "            # Sampled noise\n",
    "            z = torch.autograd.Variable(torch.FloatTensor(np.random.normal(0,\n",
    "                                                                           1,\n",
    "                                                                           (imgs.shape[0],\n",
    "                                                                            latent_dim))))\n",
    "        \n",
    "        \n",
    "        # Generator Training\n",
    "        optimizer_G.zero_grad()\n",
    "            \n",
    "        gen_imgs = generator(z)\n",
    "        g_loss = adversarial_loss(discriminator(gen_imgs), valid)\n",
    "\n",
    "        g_loss.backward()\n",
    "        optimizer_G.step()\n",
    "        \n",
    "        # Discriminator Training\n",
    "        optimizer_D.zero_grad()\n",
    "        \n",
    "        real_loss = adversarial_loss(discriminator(real_imgs), valid)\n",
    "        fake_loss = adversarial_loss(discriminator(gen_imgs.detach()), fake)\n",
    "        d_loss = (real_loss + fake_loss) / 2\n",
    "\n",
    "        d_loss.backward()\n",
    "        optimizer_D.step()\n",
    "        \n",
    "        epoch_g_loss += g_loss.float()\n",
    "        epoch_d_loss += d_loss.float()\n",
    "        \n",
    "        batches_done = epoch * len(train_loader) + batch_idx\n",
    "        if batches_done % 400 == 0:\n",
    "            save_image(gen_imgs.data[:49], 'images/%d.png' % batches_done, nrow=7, normalize=True)\n",
    "        \n",
    "    delta = time.time() - delta\n",
    "    print(f\"{delta:.2f} secs [Epoch {epoch}/{EPOCHS}] [D loss: {epoch_d_loss}] [G loss: {epoch_g_loss}]\")\n",
    "        "
   ]
  },
  {
   "cell_type": "code",
   "execution_count": null,
   "metadata": {},
   "outputs": [],
   "source": []
  }
 ],
 "metadata": {
  "kernelspec": {
   "display_name": "Python 3",
   "language": "python",
   "name": "python3"
  },
  "language_info": {
   "codemirror_mode": {
    "name": "ipython",
    "version": 3
   },
   "file_extension": ".py",
   "mimetype": "text/x-python",
   "name": "python",
   "nbconvert_exporter": "python",
   "pygments_lexer": "ipython3",
   "version": "3.6.4"
  }
 },
 "nbformat": 4,
 "nbformat_minor": 2
}
